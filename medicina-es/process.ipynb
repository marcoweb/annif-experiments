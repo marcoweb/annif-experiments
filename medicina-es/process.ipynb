{
 "cells": [
  {
   "cell_type": "code",
   "execution_count": 1,
   "metadata": {},
   "outputs": [],
   "source": [
    "%run ../utils/_execute_annif.ipynb"
   ]
  },
  {
   "cell_type": "code",
   "execution_count": 2,
   "metadata": {},
   "outputs": [],
   "source": [
    "annif_projects = [\n",
    "    'tfidf-bireme-es',\n",
    "    # 'fasttext-bireme-es',\n",
    "    # 'omikuji-parabel-bireme-es',\n",
    "    # 'mllm-bireme-es',\n",
    "    # 'ensemble-bireme-es'\n",
    "]"
   ]
  },
  {
   "cell_type": "code",
   "execution_count": 3,
   "metadata": {},
   "outputs": [
    {
     "name": "stdout",
     "output_type": "stream",
     "text": [
      "./prepared-files/corpus-test/Corpus_Evaluacion_2_200_registros/ : tfidf-bireme-es\n",
      "START [  2025-02-27 10:44:23.308151  ] Processando:  ./prepared-files/corpus-test/Corpus_Evaluacion_2_200_registros/\n",
      "END [  2025-02-27 10:49:56.772092  ] Processado:  ./prepared-files/corpus-test/Corpus_Evaluacion_2_200_registros/\n",
      "\t- Delta:  0:05:33.463941\n",
      "\t- Tempo de processamento: 0 dia(s), 0 hora(s), 5 minuto(s), 33 segundo(s)\n",
      "\t- Tempo de processamento Médio por Arquivo: 1.667319705 segundo(s)\n",
      "./prepared-files/corpus-test/Corpus_Evaluacion_1_200_registros/ : tfidf-bireme-es\n",
      "START [  2025-02-27 10:49:56.774099  ] Processando:  ./prepared-files/corpus-test/Corpus_Evaluacion_1_200_registros/\n",
      "END [  2025-02-27 10:55:34.089255  ] Processado:  ./prepared-files/corpus-test/Corpus_Evaluacion_1_200_registros/\n",
      "\t- Delta:  0:05:37.315156\n",
      "\t- Tempo de processamento: 0 dia(s), 0 hora(s), 5 minuto(s), 37 segundo(s)\n",
      "\t- Tempo de processamento Médio por Arquivo: 1.68657578 segundo(s)\n",
      "./prepared-files/corpus-test/Corpus_Evaluacion_4_200_registros/ : tfidf-bireme-es\n",
      "START [  2025-02-27 10:55:34.091227  ] Processando:  ./prepared-files/corpus-test/Corpus_Evaluacion_4_200_registros/\n",
      "END [  2025-02-27 11:01:26.646288  ] Processado:  ./prepared-files/corpus-test/Corpus_Evaluacion_4_200_registros/\n",
      "\t- Delta:  0:05:52.555061\n",
      "\t- Tempo de processamento: 0 dia(s), 0 hora(s), 5 minuto(s), 52 segundo(s)\n",
      "\t- Tempo de processamento Médio por Arquivo: 1.7627753050000001 segundo(s)\n",
      "./prepared-files/corpus-test/Corpus_Evaluacion_3_200_registros/ : tfidf-bireme-es\n",
      "START [  2025-02-27 11:01:26.648307  ] Processando:  ./prepared-files/corpus-test/Corpus_Evaluacion_3_200_registros/\n",
      "END [  2025-02-27 11:07:24.207591  ] Processado:  ./prepared-files/corpus-test/Corpus_Evaluacion_3_200_registros/\n",
      "\t- Delta:  0:05:57.559284\n",
      "\t- Tempo de processamento: 0 dia(s), 0 hora(s), 5 minuto(s), 57 segundo(s)\n",
      "\t- Tempo de processamento Médio por Arquivo: 1.78779642 segundo(s)\n"
     ]
    }
   ],
   "source": [
    "import os\n",
    "\n",
    "input_path = './prepared-files/corpus-test/'\n",
    "output_files = './output/'\n",
    "\n",
    "for item in os.listdir(input_path):\n",
    "    if os.path.isdir(input_path + item):\n",
    "        input_files = input_path + item + '/'\n",
    "        for p in annif_projects:\n",
    "            print(input_files + ' : ' + p)\n",
    "            for k, v in processDirectory(input_files, [p]).items():\n",
    "                filename = 'ANNIF_' + input_files.split('/')[-2] + '_' + k + '.csv'\n",
    "                output_files_path = output_files + filename\n",
    "                with open(output_files_path, 'w') as f:\n",
    "                    f.write('ID;Titulo;Descriptores\\n')\n",
    "                    for doc in v:\n",
    "                        f.write(doc)"
   ]
  },
  {
   "cell_type": "code",
   "execution_count": 5,
   "metadata": {},
   "outputs": [
    {
     "name": "stdout",
     "output_type": "stream",
     "text": [
      "Eval: ./prepared-files/corpus-test/Corpus_Evaluacion_2_200_registros/ : tfidf-bireme-es\n",
      "Eval: ./prepared-files/corpus-test/Corpus_Evaluacion_2_200_registros/ : fasttext-bireme-es\n",
      "Eval: ./prepared-files/corpus-test/Corpus_Evaluacion_2_200_registros/ : omikuji-parabel-bireme-es\n",
      "Eval: ./prepared-files/corpus-test/Corpus_Evaluacion_2_200_registros/ : mllm-bireme-es\n",
      "Eval: ./prepared-files/corpus-test/Corpus_Evaluacion_2_200_registros/ : ensemble-bireme-es\n",
      "Eval: ./prepared-files/corpus-test/Corpus_Evaluacion_1_200_registros/ : tfidf-bireme-es\n",
      "Eval: ./prepared-files/corpus-test/Corpus_Evaluacion_1_200_registros/ : fasttext-bireme-es\n",
      "Eval: ./prepared-files/corpus-test/Corpus_Evaluacion_1_200_registros/ : omikuji-parabel-bireme-es\n",
      "Eval: ./prepared-files/corpus-test/Corpus_Evaluacion_1_200_registros/ : mllm-bireme-es\n",
      "Eval: ./prepared-files/corpus-test/Corpus_Evaluacion_1_200_registros/ : ensemble-bireme-es\n"
     ]
    }
   ],
   "source": [
    "evalDirectory('./prepared-files/corpus-test/', annif_projects, './output/')"
   ]
  }
 ],
 "metadata": {
  "kernelspec": {
   "display_name": ".annif-venv",
   "language": "python",
   "name": "python3"
  },
  "language_info": {
   "codemirror_mode": {
    "name": "ipython",
    "version": 3
   },
   "file_extension": ".py",
   "mimetype": "text/x-python",
   "name": "python",
   "nbconvert_exporter": "python",
   "pygments_lexer": "ipython3",
   "version": "3.9.21"
  }
 },
 "nbformat": 4,
 "nbformat_minor": 2
}
