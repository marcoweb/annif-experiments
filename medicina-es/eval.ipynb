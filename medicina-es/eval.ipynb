{
 "cells": [
  {
   "cell_type": "code",
   "execution_count": 1,
   "metadata": {},
   "outputs": [],
   "source": [
    "%run ../utils/_execute_annif.ipynb"
   ]
  },
  {
   "cell_type": "code",
   "execution_count": 2,
   "metadata": {},
   "outputs": [],
   "source": [
    "annif_projects = [\n",
    "    'tfidf-bireme-es',\n",
    "    'fasttext-bireme-es',\n",
    "    'omikuji-parabel-bireme-es',\n",
    "    'mllm-bireme-es',\n",
    "    'ensemble-bireme-es'\n",
    "]"
   ]
  },
  {
   "cell_type": "code",
   "execution_count": 3,
   "metadata": {},
   "outputs": [
    {
     "name": "stdout",
     "output_type": "stream",
     "text": [
      "Eval: ./prepared-files/corpus-test/Corpus_Evaluacion_2_200_registros/ : tfidf-bireme-es\n",
      "Eval: ./prepared-files/corpus-test/Corpus_Evaluacion_2_200_registros/ : fasttext-bireme-es\n",
      "Eval: ./prepared-files/corpus-test/Corpus_Evaluacion_2_200_registros/ : omikuji-parabel-bireme-es\n",
      "Eval: ./prepared-files/corpus-test/Corpus_Evaluacion_2_200_registros/ : mllm-bireme-es\n",
      "Eval: ./prepared-files/corpus-test/Corpus_Evaluacion_2_200_registros/ : ensemble-bireme-es\n",
      "Eval: ./prepared-files/corpus-test/Corpus_Evaluacion_1_200_registros/ : tfidf-bireme-es\n",
      "Eval: ./prepared-files/corpus-test/Corpus_Evaluacion_1_200_registros/ : fasttext-bireme-es\n",
      "Eval: ./prepared-files/corpus-test/Corpus_Evaluacion_1_200_registros/ : omikuji-parabel-bireme-es\n",
      "Eval: ./prepared-files/corpus-test/Corpus_Evaluacion_1_200_registros/ : mllm-bireme-es\n",
      "Eval: ./prepared-files/corpus-test/Corpus_Evaluacion_1_200_registros/ : ensemble-bireme-es\n"
     ]
    }
   ],
   "source": [
    "evalDirectory('./prepared-files/corpus-test/', annif_projects, './output/')"
   ]
  }
 ],
 "metadata": {
  "kernelspec": {
   "display_name": ".annif-venv",
   "language": "python",
   "name": "python3"
  },
  "language_info": {
   "codemirror_mode": {
    "name": "ipython",
    "version": 3
   },
   "file_extension": ".py",
   "mimetype": "text/x-python",
   "name": "python",
   "nbconvert_exporter": "python",
   "pygments_lexer": "ipython3",
   "version": "3.9.21"
  }
 },
 "nbformat": 4,
 "nbformat_minor": 2
}
