{
 "cells": [
  {
   "cell_type": "code",
   "execution_count": null,
   "metadata": {},
   "outputs": [],
   "source": [
    "import fileinput\n",
    "import os\n",
    "\n",
    "tags_dict = {\n",
    "          'TI': {'id' : 'TI', 'start' : '#ITI#', 'end' : '#FTI#'},\n",
    "          'RE': {'id' : 'RE', 'start' : '#IRE#', 'end' : '#FRE#'},\n",
    "          'PC': {'id' : 'PC', 'start' : '#IPC#', 'end' : '#FPC#'},\n",
    "          'RF': {'id' : 'PC', 'start' : '#IRF#', 'end' : '#FRF#'}\n",
    "}\n",
    "\n",
    "def getElements(input_file):\n",
    "  result = {}\n",
    "  text_in_process = ''\n",
    "  current_tag = ''\n",
    "\n",
    "  for line in fileinput.input([input_file]):\n",
    "    if line[2:4] in tags_dict.keys():\n",
    "      current_tag = line[2:4]\n",
    "    text_in_process += line\n",
    "    if line[-6:-1] == tags_dict[current_tag]['end']:\n",
    "      result[current_tag] = text_in_process.replace(tags_dict[current_tag]['start'], \"\").replace(tags_dict[current_tag]['end'], \"\")\n",
    "      text_in_process = ''\n",
    "      current_tag = ''\n",
    "\n",
    "  return result\n",
    "\n",
    "def generateOutputFiles(input_file, output_directory):\n",
    "  if not os.path.exists(output_directory):\n",
    "    os.makedirs(output_directory)\n",
    "  doc_path = output_directory + '/' + input_file.rsplit('/', 1)[-1]\n",
    "  #key_path = output_directory + '/' + input_file.rsplit('/', 1)[-1].replace('txt', 'key')\n",
    "  content = getElements(input_file)\n",
    "  with open(doc_path, 'w') as handler:\n",
    "    handler.write('Title: ' + content['TI'] + '\\n')\n",
    "    handler.write('Abstract: ' + content['RE'] + '\\n')\n",
    "\n",
    "def generateOutputFilesFromDirectory(input_directory, output_directory):\n",
    "  directory = os.fsencode(input_directory)\n",
    "  for file in os.listdir(directory):\n",
    "    filename = os.fsdecode(file)\n",
    "    generateOutputFiles(input_directory + '/' + filename, output_directory)"
   ]
  }
 ],
 "metadata": {
  "language_info": {
   "name": "python"
  }
 },
 "nbformat": 4,
 "nbformat_minor": 2
}
