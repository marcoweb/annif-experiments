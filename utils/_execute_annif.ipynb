{
 "cells": [
  {
   "cell_type": "code",
   "execution_count": null,
   "metadata": {},
   "outputs": [],
   "source": [
    "import subprocess\n",
    "\n",
    "def processFile(filename : str, annif_project_name : str) :\n",
    "    out = subprocess.run('annif suggest ' + annif_project_name + ' < ' + filename, stdout=subprocess.PIPE, shell=True)\n",
    "    title = ''\n",
    "    with open(filename, 'r') as f:\n",
    "        line = f.readline().strip('\\n')\n",
    "        title = line.split(':')[1].strip() if ':' in line else line\n",
    "    id = filename.split('/')[-1].replace('.txt', '') + ';' + title +  ';\"'\n",
    "    result = id\n",
    "    for line in out.stdout.decode('utf-8').splitlines():\n",
    "        linesplit = line.split('\\t')\n",
    "        if len(linesplit) == 3:\n",
    "            if len(result) > len(id):\n",
    "                result += ', '\n",
    "            result += linesplit[1]\n",
    "    return result + '\"'"
   ]
  },
  {
   "cell_type": "code",
   "execution_count": null,
   "metadata": {},
   "outputs": [],
   "source": [
    "import os\n",
    "from datetime import datetime\n",
    "\n",
    "def processDirectory(directory_path: str, annif_projects: list[str]):\n",
    "    start_dateTime = datetime.now()\n",
    "    print('START [ ', start_dateTime, ' ] Processando: ', directory_path)\n",
    "    directory = os.fsencode(directory_path)\n",
    "    count_files = 0\n",
    "    result = {}\n",
    "    for file in os.listdir(directory):\n",
    "        filename = os.fsdecode(file).split('.')\n",
    "        if filename[1] == 'txt':\n",
    "            count_files += 1\n",
    "            for project in annif_projects:\n",
    "                if project not in result:\n",
    "                    result[project] = []\n",
    "                line = processFile(directory_path + os.fsdecode(file), project) + '\\n'\n",
    "                result[project].append(line)\n",
    "    end_dateTime = datetime.now()\n",
    "    print('END [ ', end_dateTime, ' ] Processado: ', directory_path)\n",
    "    delta_time = end_dateTime - start_dateTime\n",
    "    print('\\t- Delta: ', delta_time)\n",
    "    secs = int(delta_time.total_seconds())\n",
    "    dias, secs = divmod(secs, 24 * 3600)\n",
    "    horas, secs = divmod(secs, 3600)\n",
    "    minutos, secs = divmod(secs, 60)\n",
    "    print('\\t- Tempo de processamento:', f'{dias} dia(s), {horas} hora(s), {minutos} minuto(s), {secs} segundo(s)')\n",
    "    print('\\t- Tempo de processamento Médio por Arquivo:', delta_time.total_seconds() / count_files, 'segundo(s)')\n",
    "    return result"
   ]
  },
  {
   "cell_type": "code",
   "execution_count": null,
   "metadata": {},
   "outputs": [],
   "source": [
    "# import os\n",
    "# # ERRO no nome do Arquivo\n",
    "# def evalDirectory(directory_path: str, annif_projects: list[str], output_path: str = None):\n",
    "#     directory = os.fsencode(directory_path)\n",
    "#     result = {}\n",
    "#     for file in os.listdir(directory):\n",
    "#         filename = os.fsdecode(file).split('.')\n",
    "#         if filename[1] == 'txt':\n",
    "#             for project in annif_projects:\n",
    "#                 if project not in result:\n",
    "#                     result[project] = ''\n",
    "#                 #line = processFile(directory_path + os.fsdecode(file), project) + '\\n'\n",
    "#                 if output_path != None:\n",
    "#                     fileoutput = 'ANNIF_' + input_files.split('/')[-2] + '_' + k + '-EVAL.txt'\n",
    "#                     out = subprocess.run('annif eval ' + project + ' ' + , stdout=subprocess.PIPE, shell=True)\n",
    "#                     print(out.stdout)\n",
    "#                 result[project].append(line)\n",
    "#     return result"
   ]
  },
  {
   "cell_type": "code",
   "execution_count": null,
   "metadata": {},
   "outputs": [],
   "source": [
    "import os\n",
    "\n",
    "def evalDirectory(directory_path: str, annif_projects: list[str], output_path: str):\n",
    "    for item in os.listdir(directory_path):\n",
    "        if os.path.isdir(directory_path + item):\n",
    "            input_files = directory_path + item + '/'\n",
    "            for p in annif_projects:\n",
    "                print('Eval: ' + input_files + ' : ' + p)\n",
    "                fileoutput = 'ANNIF_' + input_files.split('/')[-2] + '_' + p + '-EVAL.txt'\n",
    "                out = subprocess.run('annif eval ' + p + ' ' + input_files, stdout=subprocess.PIPE, shell=True)\n",
    "                with open(fileoutput, 'w') as out_f:\n",
    "                    out_f.write(out.stdout.decode('utf-8'))"
   ]
  }
 ],
 "metadata": {
  "kernelspec": {
   "display_name": "annif-venv",
   "language": "python",
   "name": "python3"
  },
  "language_info": {
   "codemirror_mode": {
    "name": "ipython",
    "version": 3
   },
   "file_extension": ".py",
   "mimetype": "text/x-python",
   "name": "python",
   "nbconvert_exporter": "python",
   "pygments_lexer": "ipython3",
   "version": "3.9.21"
  }
 },
 "nbformat": 4,
 "nbformat_minor": 2
}
