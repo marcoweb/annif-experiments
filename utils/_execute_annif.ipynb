{
 "cells": [
  {
   "cell_type": "code",
   "execution_count": 5,
   "metadata": {},
   "outputs": [],
   "source": [
    "import subprocess\n",
    "\n",
    "def processFile(filename : str, annif_project_name : str) :\n",
    "    out = subprocess.run('annif suggest ' + annif_project_name + ' < ' + filename, stdout=subprocess.PIPE, shell=True)\n",
    "    title = ''\n",
    "    with open(filename, 'r') as f:\n",
    "        title = f.readline().split(':')[1].strip()\n",
    "    id = filename.split('/')[-1].replace('.txt', '') + ';' + title +  ';\"'\n",
    "    result = id\n",
    "    for line in out.stdout.decode('utf-8').splitlines():\n",
    "        linesplit = line.split('\\t')\n",
    "        if len(linesplit) == 3:\n",
    "            if len(result) > len(id):\n",
    "                result += ', '\n",
    "            result += linesplit[1]\n",
    "    return result + '\"'"
   ]
  },
  {
   "cell_type": "code",
   "execution_count": 7,
   "metadata": {},
   "outputs": [],
   "source": [
    "import os\n",
    "\n",
    "def processDirectory(directory_path: str, annif_projects: list[str]):\n",
    "    directory = os.fsencode(directory_path)\n",
    "    result = {}\n",
    "    for file in os.listdir(directory):\n",
    "        filename = os.fsdecode(file).split('.')\n",
    "        if filename[1] == 'txt':\n",
    "            for project in annif_projects:\n",
    "                if project not in result:\n",
    "                    result[project] = []\n",
    "                line = processFile(directory_path + os.fsdecode(file), project) + '\\n'\n",
    "                result[project].append(line)\n",
    "    return result"
   ]
  }
 ],
 "metadata": {
  "kernelspec": {
   "display_name": "annif-venv",
   "language": "python",
   "name": "python3"
  },
  "language_info": {
   "codemirror_mode": {
    "name": "ipython",
    "version": 3
   },
   "file_extension": ".py",
   "mimetype": "text/x-python",
   "name": "python",
   "nbconvert_exporter": "python",
   "pygments_lexer": "ipython3",
   "version": "3.9.21"
  }
 },
 "nbformat": 4,
 "nbformat_minor": 2
}
