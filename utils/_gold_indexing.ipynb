{
 "cells": [
  {
   "cell_type": "code",
   "execution_count": 4,
   "metadata": {},
   "outputs": [],
   "source": [
    "%run ../utils/_logs.ipynb"
   ]
  },
  {
   "cell_type": "code",
   "execution_count": 5,
   "metadata": {},
   "outputs": [],
   "source": [
    "%run ../utils/_vocabulary.ipynb"
   ]
  },
  {
   "cell_type": "code",
   "execution_count": 6,
   "metadata": {},
   "outputs": [],
   "source": [
    "class GoldIndexing:\n",
    "    def getFromFile(self, file_path):\n",
    "        result = {}\n",
    "        with open(file_path, 'r') as file:\n",
    "            for line in file.readlines():\n",
    "                line_data = line.strip().split(':')\n",
    "                if len(line_data) > 1:\n",
    "                    result[line_data[0].strip()] = [t.strip() for t in line_data[1].split(',')]\n",
    "        return result\n",
    "    \n",
    "    def usePreferentialLabelsFrom(self, vocabulary : Vocabulary, ignore_case: bool = True):\n",
    "        self.old_content = self.content\n",
    "        self.content = {}\n",
    "        for k, v in self.old_content.items():\n",
    "            terms = []\n",
    "            for t in v:\n",
    "                pref = vocabulary.getPreferentialLabel(t, ignore_case)\n",
    "                if pref != None:\n",
    "                    terms.append(pref)\n",
    "                else:\n",
    "                    write_log('Label not found on vocabulary ' + vocabulary.name + ': ' + t, 'Vocabulary', MessageType.ERROR)\n",
    "            if len(terms) > 0:\n",
    "                self.content[k] = terms\n",
    "\n",
    "    def generateTextFile(self, output_path: str):\n",
    "        with open(output_path, 'w') as out_file :\n",
    "            for k, v in self.content.items():\n",
    "                out_file.write(k + ' : ' + ','.join(v) + '\\n')\n",
    "    \n",
    "    def generateKeyFiles(self, output_pah:str):\n",
    "        for k, v in self.content.items():\n",
    "            with open(output_pah + k + '.key', 'w') as file:\n",
    "                for t in v:\n",
    "                    file.write(t + '\\n')\n",
    "\n",
    "\n",
    "    def __init__(self, from_file_path: str = None):\n",
    "        self.content = {} if from_file_path == None else self.getFromFile(from_file_path)"
   ]
  }
 ],
 "metadata": {
  "kernelspec": {
   "display_name": "annif-venv",
   "language": "python",
   "name": "python3"
  },
  "language_info": {
   "codemirror_mode": {
    "name": "ipython",
    "version": 3
   },
   "file_extension": ".py",
   "mimetype": "text/x-python",
   "name": "python",
   "nbconvert_exporter": "python",
   "pygments_lexer": "ipython3",
   "version": "3.9.21"
  }
 },
 "nbformat": 4,
 "nbformat_minor": 2
}
