{
 "cells": [
  {
   "cell_type": "code",
   "execution_count": null,
   "metadata": {},
   "outputs": [],
   "source": [
    "import os\n",
    "import shutil\n",
    "\n",
    "def renameFilesFromDirectory(base_path: str, new_zero: int, output_path: str = None):\n",
    "    for file in os.listdir(base_path):\n",
    "        if file.endswith('.txt'):\n",
    "            num_info = int(file.replace('.txt', '').replace('D', '')) - new_zero\n",
    "            new_name = 'D' + str(num_info) + '.txt'\n",
    "            if output_path == None:\n",
    "                os.rename(base_path + file, base_path + new_name)\n",
    "            else:\n",
    "                shutil.copyfile(base_path + file, output_path + new_name)"
   ]
  },
  {
   "cell_type": "code",
   "execution_count": 9,
   "metadata": {},
   "outputs": [],
   "source": [
    "def renameKeys(file_input: str, file_output: str, new_zero: int):\n",
    "    with open (file_output, 'w', encoding='utf-8-sig') as file_o:\n",
    "        with open(file_input, 'r', encoding='utf-8-sig') as file_i:\n",
    "            for line in file_i.readlines():\n",
    "                line_data = line.split(':')\n",
    "                if(len(line_data) > 1):\n",
    "                    num = int(line_data[0].replace('D', '')) - new_zero\n",
    "                    new_name = 'D' + str(num)\n",
    "                    file_o.write(new_name + ':' + line_data[1])\n"
   ]
  },
  {
   "cell_type": "code",
   "execution_count": 12,
   "metadata": {},
   "outputs": [],
   "source": [
    "#renameKeys('../education-en/raw-files/Gold_indexing_Education_ERIC_Corpus_3_450_documentos.txt', '../education-en/prepared-files/Gold_indexing_Education_ERIC_Corpus_3_450_documentos.txt', 6900)"
   ]
  }
 ],
 "metadata": {
  "kernelspec": {
   "display_name": ".annif-venv",
   "language": "python",
   "name": "python3"
  },
  "language_info": {
   "codemirror_mode": {
    "name": "ipython",
    "version": 3
   },
   "file_extension": ".py",
   "mimetype": "text/x-python",
   "name": "python",
   "nbconvert_exporter": "python",
   "pygments_lexer": "ipython3",
   "version": "3.9.21"
  }
 },
 "nbformat": 4,
 "nbformat_minor": 2
}
