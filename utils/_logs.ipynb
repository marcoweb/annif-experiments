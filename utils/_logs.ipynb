{
 "cells": [
  {
   "cell_type": "code",
   "execution_count": 34,
   "metadata": {},
   "outputs": [],
   "source": [
    "from enum import Enum\n",
    "from datetime import datetime\n",
    "\n",
    "class MessageType (Enum):\n",
    "    ERROR = 'Error'\n",
    "    WARNING = 'Warning'\n",
    "    INFORMATION = 'Information'\n",
    "\n",
    "def write_log(message:str, origin: str, message_type: MessageType = MessageType.INFORMATION, instant : datetime = datetime.now()):\n",
    "    output_path = '../_logs/' + origin + '-log.txt';\n",
    "    with open(output_path, 'a', encoding='utf-8') as out_file:\n",
    "        out_file.write('[ ' + instant.strftime('%d/%m/%Y - %H:%M') + ' ] ' + message_type.value + ' : ' + message + '\\n')\n"
   ]
  }
 ],
 "metadata": {
  "kernelspec": {
   "display_name": "usr",
   "language": "python",
   "name": "python3"
  },
  "language_info": {
   "codemirror_mode": {
    "name": "ipython",
    "version": 3
   },
   "file_extension": ".py",
   "mimetype": "text/x-python",
   "name": "python",
   "nbconvert_exporter": "python",
   "pygments_lexer": "ipython3",
   "version": "3.13.1"
  }
 },
 "nbformat": 4,
 "nbformat_minor": 2
}
