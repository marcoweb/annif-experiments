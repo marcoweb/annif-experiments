{
 "cells": [
  {
   "cell_type": "code",
   "execution_count": 1,
   "metadata": {},
   "outputs": [],
   "source": [
    "%run ../utils/_execute_annif.ipynb"
   ]
  },
  {
   "cell_type": "code",
   "execution_count": 2,
   "metadata": {},
   "outputs": [],
   "source": [
    "annif_projects = [\n",
    "    # 'tfidf-nal-en',\n",
    "    # 'fasttext-nal-en',\n",
    "    # 'omikuji-parabel-nal-en',\n",
    "    'mllm-nal-en',\n",
    "    # 'ensemble-nal-en'\n",
    "]"
   ]
  },
  {
   "cell_type": "code",
   "execution_count": 3,
   "metadata": {},
   "outputs": [
    {
     "name": "stdout",
     "output_type": "stream",
     "text": [
      "./prepared-files/corpus-test/Corpus_Agricultura_para_Test_3_500_documentos/ : mllm-nal-en\n",
      "START [  2025-03-03 11:30:21.295538  ] Processando:  ./prepared-files/corpus-test/Corpus_Agricultura_para_Test_3_500_documentos/\n",
      "END [  2025-03-03 12:48:27.801790  ] Processado:  ./prepared-files/corpus-test/Corpus_Agricultura_para_Test_3_500_documentos/\n",
      "\t- Delta:  1:18:06.506252\n",
      "\t- Tempo de processamento: 0 dia(s), 1 hora(s), 18 minuto(s), 6 segundo(s)\n",
      "\t- Tempo de processamento Médio por Arquivo: 9.373012504 segundo(s)\n",
      "./prepared-files/corpus-test/Corpus_Agricultura_para_Test_2_500_documentos/ : mllm-nal-en\n",
      "START [  2025-03-03 12:48:27.804352  ] Processando:  ./prepared-files/corpus-test/Corpus_Agricultura_para_Test_2_500_documentos/\n",
      "END [  2025-03-03 14:11:13.167962  ] Processado:  ./prepared-files/corpus-test/Corpus_Agricultura_para_Test_2_500_documentos/\n",
      "\t- Delta:  1:22:45.363610\n",
      "\t- Tempo de processamento: 0 dia(s), 1 hora(s), 22 minuto(s), 45 segundo(s)\n",
      "\t- Tempo de processamento Médio por Arquivo: 9.930727220000001 segundo(s)\n",
      "./prepared-files/corpus-test/Corpus_Agricultura_para_Test_1_500_documentos/ : mllm-nal-en\n",
      "START [  2025-03-03 14:11:13.170848  ] Processando:  ./prepared-files/corpus-test/Corpus_Agricultura_para_Test_1_500_documentos/\n",
      "END [  2025-03-03 15:32:34.408864  ] Processado:  ./prepared-files/corpus-test/Corpus_Agricultura_para_Test_1_500_documentos/\n",
      "\t- Delta:  1:21:21.238016\n",
      "\t- Tempo de processamento: 0 dia(s), 1 hora(s), 21 minuto(s), 21 segundo(s)\n",
      "\t- Tempo de processamento Médio por Arquivo: 9.762476032 segundo(s)\n"
     ]
    }
   ],
   "source": [
    "import os\n",
    "\n",
    "input_path = './prepared-files/corpus-test/'\n",
    "output_files = './output/'\n",
    "\n",
    "#r = \n",
    "# for k, v in processDirectory('./prepared-files/corpus-test/ex/', ['tfidf-nal-en']).items():\n",
    "#     filename = 'ANNIF_' + input_files.split('/')[-2] + '_' + k + '.csv'\n",
    "#     output_files_path = output_files + filename\n",
    "#     with open(output_files_path, 'w') as f:\n",
    "#         f.write('ID;Titulo;Descriptores\\n')\n",
    "#         for doc in v:\n",
    "#             f.write(doc)\n",
    "\n",
    "for item in os.listdir(input_path):\n",
    "    if os.path.isdir(input_path + item):\n",
    "        input_files = input_path + item + '/'\n",
    "        for p in annif_projects:\n",
    "            print(input_files + ' : ' + p)\n",
    "            for k, v in processDirectory(input_files, [p]).items():\n",
    "                filename = 'ANNIF_' + input_files.split('/')[-2] + '_' + k + '.csv'\n",
    "                output_files_path = output_files + filename\n",
    "                with open(output_files_path, 'w') as f:\n",
    "                    f.write('ID;Titulo;Descriptores\\n')\n",
    "                    for doc in v:\n",
    "                        f.write(doc)\n",
    "# for item in os.listdir(input_path):\n",
    "#     if os.path.isdir(input_path + item):\n",
    "#         input_files = input_path + item + '/'\n",
    "#         for p in annif_projects:\n",
    "#             results = processDirectory(input_files, [p])\n",
    "#             print('Processed: ' + p)\n",
    "            \n",
    "#             for k, v in results.items():\n",
    "#                 filename = 'ANNIF_' + input_files.split('/')[-2] + '_' + k + '.csv'\n",
    "#                 output_files_path = output_files + filename + '_' + k + '.csv'\n",
    "#                 with open(output_files_path, 'w') as f:\n",
    "#                     f.write('ID;Titulo;Descriptores\\n')\n",
    "#                     for doc in v:\n",
    "#                         f.write(doc)"
   ]
  },
  {
   "cell_type": "code",
   "execution_count": 10,
   "metadata": {},
   "outputs": [
    {
     "name": "stdout",
     "output_type": "stream",
     "text": [
      "Eval: ./prepared-files/corpus-test/Corpus_Agricultura_para_Test_3_500_documentos/ : tfidf-nal-en\n",
      "Eval: ./prepared-files/corpus-test/Corpus_Agricultura_para_Test_3_500_documentos/ : fasttext-nal-en\n",
      "Eval: ./prepared-files/corpus-test/Corpus_Agricultura_para_Test_3_500_documentos/ : omikuji-parabel-nal-en\n",
      "Eval: ./prepared-files/corpus-test/Corpus_Agricultura_para_Test_3_500_documentos/ : mllm-nal-en\n",
      "Eval: ./prepared-files/corpus-test/Corpus_Agricultura_para_Test_3_500_documentos/ : ensemble-nal-en\n",
      "Eval: ./prepared-files/corpus-test/Corpus_Agricultura_para_Test_1_500_documentos/ : tfidf-nal-en\n",
      "Eval: ./prepared-files/corpus-test/Corpus_Agricultura_para_Test_1_500_documentos/ : fasttext-nal-en\n",
      "Eval: ./prepared-files/corpus-test/Corpus_Agricultura_para_Test_1_500_documentos/ : omikuji-parabel-nal-en\n",
      "Eval: ./prepared-files/corpus-test/Corpus_Agricultura_para_Test_1_500_documentos/ : mllm-nal-en\n",
      "Eval: ./prepared-files/corpus-test/Corpus_Agricultura_para_Test_1_500_documentos/ : ensemble-nal-en\n",
      "Eval: ./prepared-files/corpus-test/Corpus_Agricultura_para_Test_2_500_documentos/ : tfidf-nal-en\n",
      "Eval: ./prepared-files/corpus-test/Corpus_Agricultura_para_Test_2_500_documentos/ : fasttext-nal-en\n",
      "Eval: ./prepared-files/corpus-test/Corpus_Agricultura_para_Test_2_500_documentos/ : omikuji-parabel-nal-en\n",
      "Eval: ./prepared-files/corpus-test/Corpus_Agricultura_para_Test_2_500_documentos/ : mllm-nal-en\n",
      "Eval: ./prepared-files/corpus-test/Corpus_Agricultura_para_Test_2_500_documentos/ : ensemble-nal-en\n"
     ]
    }
   ],
   "source": [
    "evalDirectory('./prepared-files/corpus-test/', annif_projects, './output/')"
   ]
  }
 ],
 "metadata": {
  "kernelspec": {
   "display_name": ".annif-venv",
   "language": "python",
   "name": "python3"
  },
  "language_info": {
   "codemirror_mode": {
    "name": "ipython",
    "version": 3
   },
   "file_extension": ".py",
   "mimetype": "text/x-python",
   "name": "python",
   "nbconvert_exporter": "python",
   "pygments_lexer": "ipython3",
   "version": "3.9.21"
  }
 },
 "nbformat": 4,
 "nbformat_minor": 2
}
