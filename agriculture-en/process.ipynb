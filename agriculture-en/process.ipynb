{
 "cells": [
  {
   "cell_type": "code",
   "execution_count": null,
   "metadata": {
    "vscode": {
     "languageId": "plaintext"
    }
   },
   "outputs": [],
   "source": [
    "%run ../utils/"
   ]
  },
  {
   "cell_type": "code",
   "execution_count": null,
   "metadata": {
    "vscode": {
     "languageId": "plaintext"
    }
   },
   "outputs": [],
   "source": [
    "annif_projects = [\n",
    "    'tfidf-nal-en',\n",
    "    'fasttext-nal-en',\n",
    "    'omikuji-parabel-nal-en',\n",
    "    'mllm-nal-en',\n",
    "    'ensemble-nal-en'\n",
    "]\n",
    "\n",
    "input_path = './prepared-files/corpus-test/'\n",
    "output_files = './output/'\n",
    "\n",
    "for item in os.listdir(input_path):\n",
    "    if os.path.isdir(input_path + item):\n",
    "        input_files = input_path + item + '/'\n",
    "        for p in annif_projects:\n",
    "            results = processDirectory(input_files, [p])\n",
    "            \n",
    "            for k, v in results.items():\n",
    "                filename = 'ANNIF_' + input_files.split('/')[-2] + '_' + k + '.csv'\n",
    "                output_files_path = output_files + filename + '_' + k + '.csv'\n",
    "                with open(output_files_path, 'w') as f:\n",
    "                    f.write('ID;Titulo;Descriptores\\n')\n",
    "                    for doc in v:\n",
    "                        f.write(doc)"
   ]
  }
 ],
 "metadata": {
  "kernelspec": {
   "display_name": ".annif-venv",
   "language": "python",
   "name": "python3"
  },
  "language_info": {
   "codemirror_mode": {
    "name": "ipython",
    "version": 3
   },
   "file_extension": ".py",
   "mimetype": "text/x-python",
   "name": "python",
   "nbconvert_exporter": "python",
   "pygments_lexer": "ipython3",
   "version": "3.9.21"
  }
 },
 "nbformat": 4,
 "nbformat_minor": 2
}
