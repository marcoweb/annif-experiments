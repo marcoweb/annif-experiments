{
 "cells": [
  {
   "cell_type": "code",
   "execution_count": 5,
   "metadata": {},
   "outputs": [],
   "source": [
    "def renameDocs(file_input: str, file_output: str, new_zero):\n",
    "    with open (file_output, 'w', encoding='utf-8-sig') as file_o:\n",
    "        with open(file_input, 'r', encoding='utf-8-sig') as file_i:\n",
    "            for line in file_i.readlines():\n",
    "                if line.startswith('D'):\n",
    "                    line_data = line.split(';')\n",
    "                    if(len(line_data) > 1):\n",
    "                        doc_id = line_data[0]\n",
    "                        num = int(doc_id.replace('D', '')) - new_zero\n",
    "                        new_name = 'D' + str(num)\n",
    "                        file_o.write(line.replace(doc_id, new_name))\n",
    "                else:\n",
    "                    file_o.write(line)\n"
   ]
  },
  {
   "cell_type": "code",
   "execution_count": 9,
   "metadata": {},
   "outputs": [],
   "source": [
    "datasets = {\n",
    "    'ANNIF_Corpus_1_Education_450_documentos' : 6000,\n",
    "    'ANNIF_Corpus_2_Education_450_documentos' : 6450,\n",
    "    'ANNIF_Corpus_3_Education_450_documentos' : 6900\n",
    "}\n",
    "\n",
    "annif_projects = [\n",
    "    'tfidf-eric-en',\n",
    "    'fasttext-eric-en',\n",
    "    'omikuji-parabel-eric-en',\n",
    "    'mllm-eric-en',\n",
    "    'ensemble-eric-en'\n",
    "]"
   ]
  },
  {
   "cell_type": "code",
   "execution_count": null,
   "metadata": {},
   "outputs": [
    {
     "name": "stdout",
     "output_type": "stream",
     "text": [
      "./output/ANNIF_Corpus_1_Education_450_documentos_tfidf-eric-en.csv\n",
      "./output/ANNIF_Corpus_1_Education_450_documentos_tfidf-eric-en-ren.csv\n",
      "./output/ANNIF_Corpus_1_Education_450_documentos_fasttext-eric-en.csv\n",
      "./output/ANNIF_Corpus_1_Education_450_documentos_fasttext-eric-en-ren.csv\n",
      "./output/ANNIF_Corpus_1_Education_450_documentos_omikuji-parabel-eric-en.csv\n",
      "./output/ANNIF_Corpus_1_Education_450_documentos_omikuji-parabel-eric-en-ren.csv\n",
      "./output/ANNIF_Corpus_1_Education_450_documentos_mllm-eric-en.csv\n",
      "./output/ANNIF_Corpus_1_Education_450_documentos_mllm-eric-en-ren.csv\n",
      "./output/ANNIF_Corpus_1_Education_450_documentos_ensemble-eric-en.csv\n",
      "./output/ANNIF_Corpus_1_Education_450_documentos_ensemble-eric-en-ren.csv\n",
      "./output/ANNIF_Corpus_2_Education_450_documentos_tfidf-eric-en.csv\n",
      "./output/ANNIF_Corpus_2_Education_450_documentos_tfidf-eric-en-ren.csv\n",
      "./output/ANNIF_Corpus_2_Education_450_documentos_fasttext-eric-en.csv\n",
      "./output/ANNIF_Corpus_2_Education_450_documentos_fasttext-eric-en-ren.csv\n",
      "./output/ANNIF_Corpus_2_Education_450_documentos_omikuji-parabel-eric-en.csv\n",
      "./output/ANNIF_Corpus_2_Education_450_documentos_omikuji-parabel-eric-en-ren.csv\n",
      "./output/ANNIF_Corpus_2_Education_450_documentos_mllm-eric-en.csv\n",
      "./output/ANNIF_Corpus_2_Education_450_documentos_mllm-eric-en-ren.csv\n",
      "./output/ANNIF_Corpus_2_Education_450_documentos_ensemble-eric-en.csv\n",
      "./output/ANNIF_Corpus_2_Education_450_documentos_ensemble-eric-en-ren.csv\n",
      "./output/ANNIF_Corpus_3_Education_450_documentos_tfidf-eric-en.csv\n",
      "./output/ANNIF_Corpus_3_Education_450_documentos_tfidf-eric-en-ren.csv\n",
      "./output/ANNIF_Corpus_3_Education_450_documentos_fasttext-eric-en.csv\n",
      "./output/ANNIF_Corpus_3_Education_450_documentos_fasttext-eric-en-ren.csv\n",
      "./output/ANNIF_Corpus_3_Education_450_documentos_omikuji-parabel-eric-en.csv\n",
      "./output/ANNIF_Corpus_3_Education_450_documentos_omikuji-parabel-eric-en-ren.csv\n",
      "./output/ANNIF_Corpus_3_Education_450_documentos_mllm-eric-en.csv\n",
      "./output/ANNIF_Corpus_3_Education_450_documentos_mllm-eric-en-ren.csv\n",
      "./output/ANNIF_Corpus_3_Education_450_documentos_ensemble-eric-en.csv\n",
      "./output/ANNIF_Corpus_3_Education_450_documentos_ensemble-eric-en-ren.csv\n"
     ]
    }
   ],
   "source": [
    "for k, v in datasets.items():\n",
    "    for p in annif_projects:\n",
    "        prefix = './output/' + k + '_' + p\n",
    "        input_path = prefix + '.csv'\n",
    "        output_path = prefix + '-ren.csv'\n",
    "        renameDocs(input_path, output_path, v)"
   ]
  },
  {
   "cell_type": "code",
   "execution_count": 6,
   "metadata": {},
   "outputs": [],
   "source": [
    "renameDocs('./output/ANNIF_Corpus_1_Education_450_documentos_ensemble-eric-en.csv', './output/ANNIF_Corpus_1_Education_450_documentos_ensemble-eric-en-ren.csv', 6000)"
   ]
  },
  {
   "cell_type": "code",
   "execution_count": 7,
   "metadata": {},
   "outputs": [],
   "source": [
    "renameDocs('./output/ANNIF_Corpus_2_Education_450_documentos_ensemble-eric-en.csv', './output/ANNIF_Corpus_2_Education_450_documentos_ensemble-eric-en-ren.csv', 6450)"
   ]
  }
 ],
 "metadata": {
  "kernelspec": {
   "display_name": ".annif-venv",
   "language": "python",
   "name": "python3"
  },
  "language_info": {
   "codemirror_mode": {
    "name": "ipython",
    "version": 3
   },
   "file_extension": ".py",
   "mimetype": "text/x-python",
   "name": "python",
   "nbconvert_exporter": "python",
   "pygments_lexer": "ipython3",
   "version": "3.9.21"
  }
 },
 "nbformat": 4,
 "nbformat_minor": 2
}
