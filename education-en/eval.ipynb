{
 "cells": [
  {
   "cell_type": "code",
   "execution_count": 2,
   "metadata": {},
   "outputs": [],
   "source": [
    "%run ../utils/_gold_indexing.ipynb "
   ]
  },
  {
   "cell_type": "code",
   "execution_count": 3,
   "metadata": {},
   "outputs": [],
   "source": [
    "%run ../utils/_execute_annif.ipynb"
   ]
  },
  {
   "cell_type": "code",
   "execution_count": 4,
   "metadata": {},
   "outputs": [],
   "source": [
    "eric_vocabulary = Vocabulary()\n",
    "eric_vocabulary.loadFromXmlFile('./raw-files/vocabulary/ERICThesaurus2025.xml', 'en', VocabularyXMLFileType.XML_ERIC_THESAURUS, 'https://eric.ed.gov/?qt=')"
   ]
  },
  {
   "cell_type": "code",
   "execution_count": null,
   "metadata": {},
   "outputs": [],
   "source": [
    "test1_gold_indexing = GoldIndexing('./prepared-files/gold-indexing/Gold_indexing_Education_ERIC_Corpus_1_450_documentos.txt')\n",
    "test1_gold_indexing.usePreferentialLabelsFrom(eric_vocabulary)\n",
    "test1_gold_indexing.generateKeyFiles('./prepared-files/corpus-test/Corpus_1_Education_450_documentos/')"
   ]
  },
  {
   "cell_type": "code",
   "execution_count": 5,
   "metadata": {},
   "outputs": [],
   "source": [
    "annif_projects = [\n",
    "    'tfidf-eric-en',\n",
    "    'fasttext-eric-en',\n",
    "    'omikuji-parabel-eric-en',\n",
    "    'mllm-eric-en',\n",
    "    'ensemble-eric-en'\n",
    "]"
   ]
  },
  {
   "cell_type": "code",
   "execution_count": 6,
   "metadata": {},
   "outputs": [
    {
     "name": "stdout",
     "output_type": "stream",
     "text": [
      "Eval: ./prepared-files/corpus-test/Corpus_1_Education_450_documentos/ : tfidf-eric-en\n",
      "Eval: ./prepared-files/corpus-test/Corpus_1_Education_450_documentos/ : fasttext-eric-en\n",
      "Eval: ./prepared-files/corpus-test/Corpus_1_Education_450_documentos/ : omikuji-parabel-eric-en\n",
      "Eval: ./prepared-files/corpus-test/Corpus_1_Education_450_documentos/ : mllm-eric-en\n",
      "Eval: ./prepared-files/corpus-test/Corpus_1_Education_450_documentos/ : ensemble-eric-en\n",
      "Eval: ./prepared-files/corpus-test/Corpus_2_Education_450_documentos/ : tfidf-eric-en\n",
      "Eval: ./prepared-files/corpus-test/Corpus_2_Education_450_documentos/ : fasttext-eric-en\n",
      "Eval: ./prepared-files/corpus-test/Corpus_2_Education_450_documentos/ : omikuji-parabel-eric-en\n",
      "Eval: ./prepared-files/corpus-test/Corpus_2_Education_450_documentos/ : mllm-eric-en\n",
      "Eval: ./prepared-files/corpus-test/Corpus_2_Education_450_documentos/ : ensemble-eric-en\n",
      "Eval: ./prepared-files/corpus-test/Corpus_3_Education_450_documentos/ : tfidf-eric-en\n",
      "Eval: ./prepared-files/corpus-test/Corpus_3_Education_450_documentos/ : fasttext-eric-en\n",
      "Eval: ./prepared-files/corpus-test/Corpus_3_Education_450_documentos/ : omikuji-parabel-eric-en\n",
      "Eval: ./prepared-files/corpus-test/Corpus_3_Education_450_documentos/ : mllm-eric-en\n",
      "Eval: ./prepared-files/corpus-test/Corpus_3_Education_450_documentos/ : ensemble-eric-en\n"
     ]
    }
   ],
   "source": [
    "evalDirectory('./prepared-files/corpus-test/', annif_projects, './output/')"
   ]
  }
 ],
 "metadata": {
  "kernelspec": {
   "display_name": ".annif-venv",
   "language": "python",
   "name": "python3"
  },
  "language_info": {
   "codemirror_mode": {
    "name": "ipython",
    "version": 3
   },
   "file_extension": ".py",
   "mimetype": "text/x-python",
   "name": "python",
   "nbconvert_exporter": "python",
   "pygments_lexer": "ipython3",
   "version": "3.9.21"
  }
 },
 "nbformat": 4,
 "nbformat_minor": 2
}
