{
 "cells": [
  {
   "cell_type": "code",
   "execution_count": 1,
   "metadata": {},
   "outputs": [],
   "source": [
    "%run ../utils/_execute_annif.ipynb"
   ]
  },
  {
   "cell_type": "code",
   "execution_count": 2,
   "metadata": {},
   "outputs": [],
   "source": [
    "annif_projects = [\n",
    "    # 'tfidf-eric-en',\n",
    "    # 'fasttext-eric-en',\n",
    "    'omikuji-parabel-eric-en',\n",
    "    # 'mllm-eric-en',\n",
    "    # 'ensemble-eric-en'\n",
    "]"
   ]
  },
  {
   "cell_type": "code",
   "execution_count": 3,
   "metadata": {},
   "outputs": [
    {
     "name": "stdout",
     "output_type": "stream",
     "text": [
      "./prepared-files/corpus-test/Corpus_1_Education_450_documentos/ : omikuji-parabel-eric-en\n",
      "START [  2025-02-27 07:36:24.741157  ] Processando:  ./prepared-files/corpus-test/Corpus_1_Education_450_documentos/\n",
      "END [  2025-02-27 07:49:16.791705  ] Processado:  ./prepared-files/corpus-test/Corpus_1_Education_450_documentos/\n",
      "\t- Delta:  0:12:52.050548\n",
      "\t- Tempo de processamento: 0 dia(s), 0 hora(s), 12 minuto(s), 52 segundo(s)\n",
      "\t- Tempo de processamento Médio por Arquivo: 1.7156678844444446 segundo(s)\n",
      "./prepared-files/corpus-test/Corpus_2_Education_450_documentos/ : omikuji-parabel-eric-en\n",
      "START [  2025-02-27 07:49:16.794181  ] Processando:  ./prepared-files/corpus-test/Corpus_2_Education_450_documentos/\n",
      "END [  2025-02-27 08:02:08.766488  ] Processado:  ./prepared-files/corpus-test/Corpus_2_Education_450_documentos/\n",
      "\t- Delta:  0:12:51.972307\n",
      "\t- Tempo de processamento: 0 dia(s), 0 hora(s), 12 minuto(s), 51 segundo(s)\n",
      "\t- Tempo de processamento Médio por Arquivo: 1.7154940155555556 segundo(s)\n",
      "./prepared-files/corpus-test/Corpus_3_Education_450_documentos/ : omikuji-parabel-eric-en\n",
      "START [  2025-02-27 08:02:08.768889  ] Processando:  ./prepared-files/corpus-test/Corpus_3_Education_450_documentos/\n",
      "END [  2025-02-27 08:14:23.708865  ] Processado:  ./prepared-files/corpus-test/Corpus_3_Education_450_documentos/\n",
      "\t- Delta:  0:12:14.939976\n",
      "\t- Tempo de processamento: 0 dia(s), 0 hora(s), 12 minuto(s), 14 segundo(s)\n",
      "\t- Tempo de processamento Médio por Arquivo: 1.6331999466666667 segundo(s)\n"
     ]
    }
   ],
   "source": [
    "import os\n",
    "\n",
    "input_path = './prepared-files/corpus-test/'\n",
    "output_files = './output/'\n",
    "\n",
    "for item in os.listdir(input_path):\n",
    "    if os.path.isdir(input_path + item):\n",
    "        input_files = input_path + item + '/'\n",
    "        for p in annif_projects:\n",
    "            print(input_files + ' : ' + p)\n",
    "            for k, v in processDirectory(input_files, [p]).items():\n",
    "                filename = 'ANNIF_' + input_files.split('/')[-2] + '_' + k + '.csv'\n",
    "                output_files_path = output_files + filename\n",
    "                with open(output_files_path, 'w') as f:\n",
    "                    f.write('ID;Titulo;Descriptores\\n')\n",
    "                    for doc in v:\n",
    "                        f.write(doc)"
   ]
  },
  {
   "cell_type": "code",
   "execution_count": 10,
   "metadata": {},
   "outputs": [
    {
     "name": "stdout",
     "output_type": "stream",
     "text": [
      "Eval: ./prepared-files/corpus-test/Corpus_Agricultura_para_Test_3_500_documentos/ : tfidf-nal-en\n",
      "Eval: ./prepared-files/corpus-test/Corpus_Agricultura_para_Test_3_500_documentos/ : fasttext-nal-en\n",
      "Eval: ./prepared-files/corpus-test/Corpus_Agricultura_para_Test_3_500_documentos/ : omikuji-parabel-nal-en\n",
      "Eval: ./prepared-files/corpus-test/Corpus_Agricultura_para_Test_3_500_documentos/ : mllm-nal-en\n",
      "Eval: ./prepared-files/corpus-test/Corpus_Agricultura_para_Test_3_500_documentos/ : ensemble-nal-en\n",
      "Eval: ./prepared-files/corpus-test/Corpus_Agricultura_para_Test_1_500_documentos/ : tfidf-nal-en\n",
      "Eval: ./prepared-files/corpus-test/Corpus_Agricultura_para_Test_1_500_documentos/ : fasttext-nal-en\n",
      "Eval: ./prepared-files/corpus-test/Corpus_Agricultura_para_Test_1_500_documentos/ : omikuji-parabel-nal-en\n",
      "Eval: ./prepared-files/corpus-test/Corpus_Agricultura_para_Test_1_500_documentos/ : mllm-nal-en\n",
      "Eval: ./prepared-files/corpus-test/Corpus_Agricultura_para_Test_1_500_documentos/ : ensemble-nal-en\n",
      "Eval: ./prepared-files/corpus-test/Corpus_Agricultura_para_Test_2_500_documentos/ : tfidf-nal-en\n",
      "Eval: ./prepared-files/corpus-test/Corpus_Agricultura_para_Test_2_500_documentos/ : fasttext-nal-en\n",
      "Eval: ./prepared-files/corpus-test/Corpus_Agricultura_para_Test_2_500_documentos/ : omikuji-parabel-nal-en\n",
      "Eval: ./prepared-files/corpus-test/Corpus_Agricultura_para_Test_2_500_documentos/ : mllm-nal-en\n",
      "Eval: ./prepared-files/corpus-test/Corpus_Agricultura_para_Test_2_500_documentos/ : ensemble-nal-en\n"
     ]
    }
   ],
   "source": [
    "evalDirectory('./prepared-files/corpus-test/', annif_projects, './output/')"
   ]
  }
 ],
 "metadata": {
  "kernelspec": {
   "display_name": ".annif-venv",
   "language": "python",
   "name": "python3"
  },
  "language_info": {
   "codemirror_mode": {
    "name": "ipython",
    "version": 3
   },
   "file_extension": ".py",
   "mimetype": "text/x-python",
   "name": "python",
   "nbconvert_exporter": "python",
   "pygments_lexer": "ipython3",
   "version": "3.9.21"
  }
 },
 "nbformat": 4,
 "nbformat_minor": 2
}
